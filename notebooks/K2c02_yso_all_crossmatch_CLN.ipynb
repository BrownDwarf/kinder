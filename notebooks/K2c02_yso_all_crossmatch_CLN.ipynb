{
 "cells": [
  {
   "cell_type": "markdown",
   "metadata": {},
   "source": [
    "Merge K2 summary statistics catalog with other data from `kplr`\n",
    "gully"
   ]
  },
  {
   "cell_type": "markdown",
   "metadata": {},
   "source": [
    "## Query each of the 1658 sources with `kplr` to get meta data, *e.g.* Kepler magnitude.\n",
    "\n",
    "It adds 16 new columns of information, and one repeated column of information (`input_id`).\n",
    "\n",
    "\n",
    "### <i class=\"fa fa-arrow-right fa-1x\"></i>   Input:\n",
    "\n",
    "<i class=\"fa fa-table fa-2x\"></i> 1659 <i class=\"fa fa-times fa-1x\"></i> 12  \n",
    "<i class=\"fa fa-file-text fa-2x\"></i>`../analysis/K2C02_control_agg_data.csv` (or equivalent).\n",
    "\n",
    "### Output <i class=\"fa fa-arrow-right fa-1x\"></i>   :\n",
    "\n",
    "<i class=\"fa fa-table fa-2x\"></i> 1659 <i class=\"fa fa-times fa-1x\"></i> 29  \n",
    "<i class=\"fa fa-file-text fa-2x\"></i>\n",
    "`../analysis/K2C02_YSO_kplr_match.csv`"
   ]
  },
  {
   "cell_type": "code",
   "execution_count": 5,
   "metadata": {
    "collapsed": false
   },
   "outputs": [],
   "source": [
    "import warnings\n",
    "warnings.filterwarnings('ignore')\n",
    "%matplotlib inline\n",
    "import pandas as pd\n",
    "import numpy as np\n",
    "import matplotlib.pyplot as plt\n",
    "import seaborn as sns\n",
    "%config InlineBackend.figure_format = 'retina' \n",
    "from astropy.utils.console import ProgressBar"
   ]
  },
  {
   "cell_type": "markdown",
   "metadata": {},
   "source": [
    "### Read in the summary statistics from the previous notebook"
   ]
  },
  {
   "cell_type": "code",
   "execution_count": 43,
   "metadata": {
    "collapsed": true
   },
   "outputs": [],
   "source": [
    "ad_clean = pd.read_csv('../analysis/K2C02_YSO_cln_data.csv')\n",
    "ad_dirty = pd.read_csv('../analysis/K2C02_YSO_simbad_match.csv')"
   ]
  },
  {
   "cell_type": "markdown",
   "metadata": {},
   "source": [
    "### We want to use `kplr` to fetch auxiliary information about each source."
   ]
  },
  {
   "cell_type": "markdown",
   "metadata": {},
   "source": [
    "We don't need to query with kplr for the cleaned data.  Just merge the clean DataFrame with the extra columns from the dirty DataFrame."
   ]
  },
  {
   "cell_type": "code",
   "execution_count": 44,
   "metadata": {
    "collapsed": false
   },
   "outputs": [
    {
     "data": {
      "text/plain": [
       "Index(['EPIC_ID', 'count', 'mean', 'std', 'min', '25%', '50%', '75%', 'max',\n",
       "       'logstd', 'logiqr', 'fname', 'input_id', 'id', 'k2_ra', 'k2_dec',\n",
       "       'twomass', 'ucac', 'tyc', 'hip', 'kp', 'bmag', 'vmag', 'rmag', 'imag',\n",
       "       'jmag', 'hmag', 'kmag', 'kepflag', 'sim_2MASS', 'MAIN_ID', 'RA', 'DEC',\n",
       "       'RA_PREC', 'DEC_PREC', 'COO_ERR_MAJA', 'COO_ERR_MINA', 'COO_ERR_ANGLE',\n",
       "       'COO_QUAL', 'COO_WAVELENGTH', 'COO_BIBCODE', 'OTYPE', 'ID', 'SP_TYPE',\n",
       "       'SP_QUAL', 'SP_BIBCODE', 'FLUX_V', 'FLUX_I', 'FLUX_H', 'FLUX_K',\n",
       "       'INPUT'],\n",
       "      dtype='object')"
      ]
     },
     "execution_count": 44,
     "metadata": {},
     "output_type": "execute_result"
    }
   ],
   "source": [
    "ad_dirty.columns"
   ]
  },
  {
   "cell_type": "code",
   "execution_count": 45,
   "metadata": {
    "collapsed": false
   },
   "outputs": [],
   "source": [
    "extra_cols = list(set(ad_dirty.columns).difference(ad_clean.columns))"
   ]
  },
  {
   "cell_type": "markdown",
   "metadata": {},
   "source": [
    "Clean the weird byte string B.S."
   ]
  },
  {
   "cell_type": "code",
   "execution_count": 69,
   "metadata": {
    "collapsed": false
   },
   "outputs": [],
   "source": [
    "ad_dirty.SP_TYPE = ad_dirty.SP_TYPE.str[2:-1]"
   ]
  },
  {
   "cell_type": "code",
   "execution_count": 70,
   "metadata": {
    "collapsed": false
   },
   "outputs": [
    {
     "data": {
      "text/plain": [
       "array([nan, 'F3V', 'G8IV(e)', 'K1III:', '', 'G8IV', 'A0', 'A0V', 'K0IV(e)',\n",
       "       'G0V', 'K1V(e)', 'A6IV', 'M6', 'F5V', 'A3V', 'G2IV', 'M5.5', 'A1V',\n",
       "       'K7Ve', 'K5e', 'F6V', 'K0/K1III:', 'F5', 'G9V(e)', 'M2', 'B9V',\n",
       "       'K7', 'M0', 'F2V', 'F9V', 'A9V+...', 'B8II', 'G1', 'M1', 'A5IV',\n",
       "       'G8V', 'M5', 'A2m...', 'M3.5', 'M5-6', 'K5V(e)', 'B5III', 'K5',\n",
       "       'M4.5', 'B8V', 'A2V', 'M4.75', 'M3', 'K3', 'K0', 'F4V', 'M3.75',\n",
       "       'Me', 'G5', 'M4', 'G4', 'K6', 'K2', 'K1', 'K3/M0e', 'B5V', 'M4.25',\n",
       "       'A5IV/V', 'M6.5', 'K8', 'K4/M2.5e', 'K4', 'F7V', 'M2.5', 'M6.0',\n",
       "       'M5.25', 'M8', 'K3:', 'K9', 'M4III', 'M8.5', 'M7.5', 'G9', 'M5III',\n",
       "       'M7', 'B7Vv...', 'M2III', 'M2e', 'B2III/IV', 'M0.5', 'G9V', 'M6.25',\n",
       "       'A7', 'B6IV', 'M3.25', 'G7', 'B4', 'K0:', 'G0', 'A1III/IV', 'K0e',\n",
       "       'K0:Ve', 'B9IIv...', 'G3', 'F2', 'M4.25IIIC', 'G3.5', 'M4.5III',\n",
       "       'M0:', 'F3.5', 'M3.5III', 'F3', 'F0V', 'M5.0', 'M1.5', 'G3V',\n",
       "       'M5.75', 'G9IV', 'M7.00', 'M9.00', 'B8/B9III', 'M4.0', 'B3/B4V',\n",
       "       'A4IV/V', 'M:', 'L0', 'G2V', 'M7.0', 'M11.00', 'A9V', 'A3III/IV',\n",
       "       'K2IV', 'M0e', 'G8e', 'K2IVe', 'K5+K5', 'B9.5V', 'K1IV', 'G9IVe',\n",
       "       'M3e', 'A8III/IV', 'M4e', 'M5e', 'G7IV(e)', 'K1IV(e)', 'M5.25-M5',\n",
       "       'K1III', 'A7III/IV', 'F2/F3V', 'B3V', 'M1e', 'G9IV(e)', 'B9.5Va',\n",
       "       'A8III', 'B9II/III', 'M3.7', 'K0IV', 'K1Ve', 'B2/B3V', 'K5:Ve',\n",
       "       'M8.5-9.5', 'F6/F7V', 'M0:Ve', 'B9.5IV'], dtype=object)"
      ]
     },
     "execution_count": 70,
     "metadata": {},
     "output_type": "execute_result"
    }
   ],
   "source": [
    "ad_dirty.SP_TYPE.unique()"
   ]
  },
  {
   "cell_type": "code",
   "execution_count": 71,
   "metadata": {
    "collapsed": true
   },
   "outputs": [],
   "source": [
    "ad = pd.merge(ad_clean, ad_dirty[['EPIC_ID'] + extra_cols], how='outer', on='EPIC_ID')"
   ]
  },
  {
   "cell_type": "code",
   "execution_count": 72,
   "metadata": {
    "collapsed": false
   },
   "outputs": [
    {
     "data": {
      "text/plain": [
       "array([nan, 'Star', 'RotV*', 'Candidate_YSO', 'X', 'TTau*', 'pMS*',\n",
       "       '*inAssoc', 'brownD*', '**', 'RGB*', 'PulsV*delSct', '*inCl',\n",
       "       'Orion_V*', 'Ae*', 'Em*', 'IR', 'Flare*', 'YSO', 'AGB*',\n",
       "       'Candidate_brownD*', 'Candidate_TTau*', 'RotV*alf2CVn', 'BYDra',\n",
       "       'V*', 'RSCVn', 'EB*Algol', 'Cepheid', 'SB*'], dtype=object)"
      ]
     },
     "execution_count": 72,
     "metadata": {},
     "output_type": "execute_result"
    }
   ],
   "source": [
    "ad.OTYPE.unique()"
   ]
  },
  {
   "cell_type": "code",
   "execution_count": 73,
   "metadata": {
    "collapsed": false
   },
   "outputs": [],
   "source": [
    "ad = ad[ad_dirty.columns]"
   ]
  },
  {
   "cell_type": "code",
   "execution_count": 74,
   "metadata": {
    "collapsed": true
   },
   "outputs": [],
   "source": [
    "k2c2_yso_all_info = ad"
   ]
  },
  {
   "cell_type": "code",
   "execution_count": 75,
   "metadata": {
    "collapsed": false
   },
   "outputs": [
    {
     "data": {
      "text/html": [
       "<div>\n",
       "<table border=\"1\" class=\"dataframe\">\n",
       "  <thead>\n",
       "    <tr style=\"text-align: right;\">\n",
       "      <th></th>\n",
       "      <th>EPIC_ID</th>\n",
       "      <th>count</th>\n",
       "      <th>mean</th>\n",
       "      <th>std</th>\n",
       "      <th>min</th>\n",
       "      <th>25%</th>\n",
       "      <th>50%</th>\n",
       "      <th>75%</th>\n",
       "      <th>max</th>\n",
       "      <th>logstd</th>\n",
       "      <th>...</th>\n",
       "      <th>OTYPE</th>\n",
       "      <th>ID</th>\n",
       "      <th>SP_TYPE</th>\n",
       "      <th>SP_QUAL</th>\n",
       "      <th>SP_BIBCODE</th>\n",
       "      <th>FLUX_V</th>\n",
       "      <th>FLUX_I</th>\n",
       "      <th>FLUX_H</th>\n",
       "      <th>FLUX_K</th>\n",
       "      <th>INPUT</th>\n",
       "    </tr>\n",
       "  </thead>\n",
       "  <tbody>\n",
       "    <tr>\n",
       "      <th>1673</th>\n",
       "      <td>210282521</td>\n",
       "      <td>1727</td>\n",
       "      <td>1.000547</td>\n",
       "      <td>0.012406</td>\n",
       "      <td>0.969334</td>\n",
       "      <td>0.991273</td>\n",
       "      <td>0.998252</td>\n",
       "      <td>1.008991</td>\n",
       "      <td>1.047247</td>\n",
       "      <td>-1.906380</td>\n",
       "      <td>...</td>\n",
       "      <td>NaN</td>\n",
       "      <td>NaN</td>\n",
       "      <td>NaN</td>\n",
       "      <td>NaN</td>\n",
       "      <td>NaN</td>\n",
       "      <td>NaN</td>\n",
       "      <td>NaN</td>\n",
       "      <td>NaN</td>\n",
       "      <td>NaN</td>\n",
       "      <td>NaN</td>\n",
       "    </tr>\n",
       "    <tr>\n",
       "      <th>1674</th>\n",
       "      <td>210282525</td>\n",
       "      <td>1717</td>\n",
       "      <td>1.001416</td>\n",
       "      <td>0.009804</td>\n",
       "      <td>0.986223</td>\n",
       "      <td>0.994732</td>\n",
       "      <td>1.001227</td>\n",
       "      <td>1.007479</td>\n",
       "      <td>1.194411</td>\n",
       "      <td>-2.008590</td>\n",
       "      <td>...</td>\n",
       "      <td>NaN</td>\n",
       "      <td>NaN</td>\n",
       "      <td>NaN</td>\n",
       "      <td>NaN</td>\n",
       "      <td>NaN</td>\n",
       "      <td>NaN</td>\n",
       "      <td>NaN</td>\n",
       "      <td>NaN</td>\n",
       "      <td>NaN</td>\n",
       "      <td>NaN</td>\n",
       "    </tr>\n",
       "    <tr>\n",
       "      <th>1675</th>\n",
       "      <td>210282526</td>\n",
       "      <td>1683</td>\n",
       "      <td>1.011602</td>\n",
       "      <td>0.037834</td>\n",
       "      <td>0.901353</td>\n",
       "      <td>0.985588</td>\n",
       "      <td>1.005886</td>\n",
       "      <td>1.035378</td>\n",
       "      <td>1.123121</td>\n",
       "      <td>-1.422115</td>\n",
       "      <td>...</td>\n",
       "      <td>NaN</td>\n",
       "      <td>NaN</td>\n",
       "      <td>NaN</td>\n",
       "      <td>NaN</td>\n",
       "      <td>NaN</td>\n",
       "      <td>NaN</td>\n",
       "      <td>NaN</td>\n",
       "      <td>NaN</td>\n",
       "      <td>NaN</td>\n",
       "      <td>NaN</td>\n",
       "    </tr>\n",
       "    <tr>\n",
       "      <th>1676</th>\n",
       "      <td>210282527</td>\n",
       "      <td>1688</td>\n",
       "      <td>1.000744</td>\n",
       "      <td>0.001861</td>\n",
       "      <td>0.997008</td>\n",
       "      <td>0.999152</td>\n",
       "      <td>1.000094</td>\n",
       "      <td>1.002595</td>\n",
       "      <td>1.008156</td>\n",
       "      <td>-2.730217</td>\n",
       "      <td>...</td>\n",
       "      <td>NaN</td>\n",
       "      <td>NaN</td>\n",
       "      <td>NaN</td>\n",
       "      <td>NaN</td>\n",
       "      <td>NaN</td>\n",
       "      <td>NaN</td>\n",
       "      <td>NaN</td>\n",
       "      <td>NaN</td>\n",
       "      <td>NaN</td>\n",
       "      <td>NaN</td>\n",
       "    </tr>\n",
       "    <tr>\n",
       "      <th>1677</th>\n",
       "      <td>210282528</td>\n",
       "      <td>1697</td>\n",
       "      <td>0.998154</td>\n",
       "      <td>0.055148</td>\n",
       "      <td>0.859039</td>\n",
       "      <td>0.961421</td>\n",
       "      <td>0.998843</td>\n",
       "      <td>1.024312</td>\n",
       "      <td>1.237276</td>\n",
       "      <td>-1.258470</td>\n",
       "      <td>...</td>\n",
       "      <td>NaN</td>\n",
       "      <td>NaN</td>\n",
       "      <td>NaN</td>\n",
       "      <td>NaN</td>\n",
       "      <td>NaN</td>\n",
       "      <td>NaN</td>\n",
       "      <td>NaN</td>\n",
       "      <td>NaN</td>\n",
       "      <td>NaN</td>\n",
       "      <td>NaN</td>\n",
       "    </tr>\n",
       "  </tbody>\n",
       "</table>\n",
       "<p>5 rows × 51 columns</p>\n",
       "</div>"
      ],
      "text/plain": [
       "        EPIC_ID  count      mean       std       min       25%       50%  \\\n",
       "1673  210282521   1727  1.000547  0.012406  0.969334  0.991273  0.998252   \n",
       "1674  210282525   1717  1.001416  0.009804  0.986223  0.994732  1.001227   \n",
       "1675  210282526   1683  1.011602  0.037834  0.901353  0.985588  1.005886   \n",
       "1676  210282527   1688  1.000744  0.001861  0.997008  0.999152  1.000094   \n",
       "1677  210282528   1697  0.998154  0.055148  0.859039  0.961421  0.998843   \n",
       "\n",
       "           75%       max    logstd  ...    OTYPE   ID  SP_TYPE  SP_QUAL  \\\n",
       "1673  1.008991  1.047247 -1.906380  ...      NaN  NaN      NaN      NaN   \n",
       "1674  1.007479  1.194411 -2.008590  ...      NaN  NaN      NaN      NaN   \n",
       "1675  1.035378  1.123121 -1.422115  ...      NaN  NaN      NaN      NaN   \n",
       "1676  1.002595  1.008156 -2.730217  ...      NaN  NaN      NaN      NaN   \n",
       "1677  1.024312  1.237276 -1.258470  ...      NaN  NaN      NaN      NaN   \n",
       "\n",
       "      SP_BIBCODE  FLUX_V FLUX_I FLUX_H FLUX_K  INPUT  \n",
       "1673         NaN     NaN    NaN    NaN    NaN    NaN  \n",
       "1674         NaN     NaN    NaN    NaN    NaN    NaN  \n",
       "1675         NaN     NaN    NaN    NaN    NaN    NaN  \n",
       "1676         NaN     NaN    NaN    NaN    NaN    NaN  \n",
       "1677         NaN     NaN    NaN    NaN    NaN    NaN  \n",
       "\n",
       "[5 rows x 51 columns]"
      ]
     },
     "execution_count": 75,
     "metadata": {},
     "output_type": "execute_result"
    }
   ],
   "source": [
    "k2c2_yso_all_info.tail()"
   ]
  },
  {
   "cell_type": "code",
   "execution_count": 76,
   "metadata": {
    "collapsed": true
   },
   "outputs": [],
   "source": [
    "k2c2_yso_all_info.to_csv('../analysis/K2C02_YSO_CLN_match.csv', index=False)"
   ]
  },
  {
   "cell_type": "markdown",
   "metadata": {
    "collapsed": true
   },
   "source": [
    "# The end."
   ]
  }
 ],
 "metadata": {
  "kernelspec": {
   "display_name": "Python 3",
   "language": "python",
   "name": "python3"
  },
  "language_info": {
   "codemirror_mode": {
    "name": "ipython",
    "version": 3
   },
   "file_extension": ".py",
   "mimetype": "text/x-python",
   "name": "python",
   "nbconvert_exporter": "python",
   "pygments_lexer": "ipython3",
   "version": "3.4.4"
  }
 },
 "nbformat": 4,
 "nbformat_minor": 0
}
