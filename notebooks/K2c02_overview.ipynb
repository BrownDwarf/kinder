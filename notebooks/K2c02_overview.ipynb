{
 "cells": [
  {
   "cell_type": "markdown",
   "metadata": {},
   "source": [
    "# K2-Overview\n",
    "Michael Gully-Santiago  \n",
    "Wednesday, February 3, 2016\n",
    "\n",
    "Overview of the notebooks."
   ]
  },
  {
   "cell_type": "markdown",
   "metadata": {},
   "source": [
    "## Notebooks:"
   ]
  },
  {
   "cell_type": "markdown",
   "metadata": {},
   "source": [
    "1. [K2c02_yso_summary_statistics](K2c02_yso_summary_statistics.ipynb)- Calculate the summary statistics for all 1568 YSO K2 C2 lightcurves \n",
    "2. [K2c02_yso_summary_statistics-control](K2c02_yso_summary_statistics-control)- Calculate the summary statistics for the control sample (everything in K2 C02 that isn't a YSO).\n",
    "3. [K2c02_yso_cool_plot](K2c02_yso_cool_plot.ipynb)- Make a cool plot using all the 1568 source summary statistics \n",
    "4. [K2c02_yso_kplr_crossmatch](K2c02_yso_kplr_crossmatch)- Query each of the 1568 sources with `kplr` to get more meta data, including Kepler magnitude.\n",
    "5. [K2c02_yso_simbad_match](K2c02_yso_simbad_match.ipynb)- Cross match all 1568 sources with Simbad and astroquery.\n",
    "6. [K2c02_yso_WISE_match](K2c02_yso_WISE_match.ipynb)- Cross match all 1568 sources with WISE using Vizier.\n",
    "7. [K2c02_yso_pick_sample](K2c02_yso_pick_sample.ipynb)- Pick a sample for IGRINS observations based on K2 variability."
   ]
  },
  {
   "cell_type": "markdown",
   "metadata": {},
   "source": [
    "## More details:"
   ]
  },
  {
   "cell_type": "markdown",
   "metadata": {},
   "source": [
    "## 1. [K2c02_yso_summary_statistics](K2c02_yso_summary_statistics.ipynb)- \n",
    "### Calculate the summary statistics for all 1678 YSO K2 C2 lightcurves \n",
    "\n",
    "There are 1678 light curve files for sources that were proposed for by Kraus, Hillenbrand, Covey, or (?) to be YSOs or YSO candidates in K2 Cycle 2.  See my other notebook for how I downloaded them.  \n",
    "\n",
    "Once we have the files it's a matter of what to do with them.  Here we read in each file and construct the basic summary statistics using the pandas `describe()` function.  We then save that series and some metadata into a data frame for each lightcurve.  \n",
    "\n",
    "**The result is a $1658 \\times 12 $ dataset of summary statistics for each K2 C2 lightcurve.**  \n",
    "We had to drop 20 lightcurves that had NaN's for some reason.\n",
    "\n",
    "Finally, we construct some plots of the new data just to explore it."
   ]
  },
  {
   "cell_type": "markdown",
   "metadata": {},
   "source": [
    "## Output:\n",
    "<i class=\"fa fa-file-text fa-5x\"></i>  \n",
    "`../analysis/K2C02_YSO_agg_data.csv`"
   ]
  },
  {
   "cell_type": "code",
   "execution_count": 11,
   "metadata": {
    "collapsed": false
   },
   "outputs": [
    {
     "name": "stdout",
     "output_type": "stream",
     "text": [
      "    1659 ../analysis/K2C02_YSO_agg_data.csv\n",
      "EPIC_ID,count,mean,std,min,25%,50%,75%,max,logstd,logiqr,fname\n"
     ]
    }
   ],
   "source": [
    "! wc -l ../analysis/K2C02_YSO_agg_data.csv\n",
    "! head -n 1 ../analysis/K2C02_YSO_agg_data.csv"
   ]
  },
  {
   "cell_type": "code",
   "execution_count": null,
   "metadata": {
    "collapsed": true
   },
   "outputs": [],
   "source": []
  }
 ],
 "metadata": {
  "kernelspec": {
   "display_name": "Python 3",
   "language": "python",
   "name": "python3"
  },
  "language_info": {
   "codemirror_mode": {
    "name": "ipython",
    "version": 3
   },
   "file_extension": ".py",
   "mimetype": "text/x-python",
   "name": "python",
   "nbconvert_exporter": "python",
   "pygments_lexer": "ipython3",
   "version": "3.4.3"
  }
 },
 "nbformat": 4,
 "nbformat_minor": 0
}
