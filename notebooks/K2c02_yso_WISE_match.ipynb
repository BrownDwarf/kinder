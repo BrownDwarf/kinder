{
 "cells": [
  {
   "cell_type": "markdown",
   "metadata": {},
   "source": [
    "Compare with Simbad.  \n",
    "gully"
   ]
  },
  {
   "cell_type": "code",
   "execution_count": 1,
   "metadata": {
    "collapsed": true
   },
   "outputs": [],
   "source": [
    "%matplotlib inline\n",
    "import pandas as pd\n",
    "import numpy as np\n",
    "import matplotlib.pyplot as plt\n",
    "import seaborn as sns\n",
    "%config InlineBackend.figure_format = 'retina' "
   ]
  },
  {
   "cell_type": "markdown",
   "metadata": {},
   "source": [
    "### Read in the K2c02 data crossmatched with kplr"
   ]
  },
  {
   "cell_type": "code",
   "execution_count": 29,
   "metadata": {
    "collapsed": false
   },
   "outputs": [],
   "source": [
    "k2_simbad = pd.read_csv('../analysis/K2C02_YSO_simbad_match.csv')"
   ]
  },
  {
   "cell_type": "code",
   "execution_count": 30,
   "metadata": {
    "collapsed": false
   },
   "outputs": [
    {
     "data": {
      "text/plain": [
       "(1658, 51)"
      ]
     },
     "execution_count": 30,
     "metadata": {},
     "output_type": "execute_result"
    }
   ],
   "source": [
    "k2_simbad.shape"
   ]
  },
  {
   "cell_type": "code",
   "execution_count": 31,
   "metadata": {
    "collapsed": false
   },
   "outputs": [
    {
     "data": {
      "text/plain": [
       "Index(['EPIC_ID', 'count', 'mean', 'std', 'min', '25%', '50%', '75%', 'max',\n",
       "       'logstd', 'logiqr', 'fname', 'input_id', 'id', 'k2_ra', 'k2_dec',\n",
       "       'twomass', 'ucac', 'tyc', 'hip', 'kp', 'bmag', 'vmag', 'rmag', 'imag',\n",
       "       'jmag', 'hmag', 'kmag', 'kepflag', 'sim_2MASS', 'MAIN_ID', 'RA', 'DEC',\n",
       "       'RA_PREC', 'DEC_PREC', 'COO_ERR_MAJA', 'COO_ERR_MINA', 'COO_ERR_ANGLE',\n",
       "       'COO_QUAL', 'COO_WAVELENGTH', 'COO_BIBCODE', 'OTYPE', 'ID', 'SP_TYPE',\n",
       "       'SP_QUAL', 'SP_BIBCODE', 'FLUX_V', 'FLUX_I', 'FLUX_H', 'FLUX_K',\n",
       "       'INPUT'],\n",
       "      dtype='object')"
      ]
     },
     "execution_count": 31,
     "metadata": {},
     "output_type": "execute_result"
    }
   ],
   "source": [
    "k2_simbad.columns"
   ]
  },
  {
   "cell_type": "markdown",
   "metadata": {},
   "source": [
    "## Astroquery"
   ]
  },
  {
   "cell_type": "code",
   "execution_count": 7,
   "metadata": {
    "collapsed": false
   },
   "outputs": [],
   "source": [
    "from astroquery.simbad import Simbad\n",
    "import astropy.coordinates as coord\n",
    "import astropy.units as u\n",
    "from astropy.table import Table, vstack\n",
    "#from astroquery import sha"
   ]
  },
  {
   "cell_type": "code",
   "execution_count": 8,
   "metadata": {
    "collapsed": true
   },
   "outputs": [],
   "source": [
    "from astroquery.vizier import Vizier"
   ]
  },
  {
   "cell_type": "code",
   "execution_count": 9,
   "metadata": {
    "collapsed": true
   },
   "outputs": [],
   "source": [
    "import warnings"
   ]
  },
  {
   "cell_type": "code",
   "execution_count": 10,
   "metadata": {
    "collapsed": true
   },
   "outputs": [],
   "source": [
    "v_wise = Vizier(columns=['*', '+_r'] , catalog='II/328/allwise', column_filters={\"_r\":\"<1\"})"
   ]
  },
  {
   "cell_type": "code",
   "execution_count": 11,
   "metadata": {
    "collapsed": true
   },
   "outputs": [],
   "source": [
    "cols = ['Allwise_input','_r', '_RAJ2000', '_DEJ2000', 'AllWISE', 'RAJ2000', 'DEJ2000', 'eeMaj',\n",
    "       'eeMin', 'eePA', 'Im', 'W1mag', 'e_W1mag', 'W2mag', 'e_W2mag', 'W3mag',\n",
    "       'e_W3mag', 'W4mag', 'e_W4mag', 'Jmag', 'e_Jmag', 'Hmag', 'e_Hmag',\n",
    "       'Kmag', 'e_Kmag', 'wx', 'wy', 'ID', 'snr1', 'chi2W1', 'snr2', 'chi2W2',\n",
    "       'snr3', 'chi2W3', 'snr4', 'chi2W4', 'chi2', 'nb', 'na', 'sat1', 'sat2',\n",
    "       'sat3', 'sat4', 'ccf', 'ex', 'var', 'nW1', 'mW1', 'nW2', 'mW2', 'nW3',\n",
    "       'mW3', 'nW4', 'mW4', 'satnum', 'RA_pm', 'e_RA_pm', 'DE_pm', 'e_DE_pm',\n",
    "       'cosig_pm', 'pmRA', 'e_pmRA', 'pmDE', 'e_pmDE', 'chi2W1_pm',\n",
    "       'chi2W2_pm', 'chi2W3_pm', 'chi2W4_pm', 'chi2pm', 'qpm', 'qph', 'fdet',\n",
    "       'fmoon', 'covW1', 'covW2', 'covW3', 'covW4', '_2Mkey', 'd2M', '_2M']\n",
    "new_df = pd.DataFrame(columns=cols)"
   ]
  },
  {
   "cell_type": "code",
   "execution_count": 45,
   "metadata": {
    "collapsed": true
   },
   "outputs": [],
   "source": [
    "cands = [  84,   86,   92,  162,  189,  193,  199,  213,  225,  238,  262,\n",
    "        279,  291,  295,  304,  307,  309,  310,  311,  324,  332,  336,\n",
    "        343,  372,  373,  382,  385,  391,  395,  398,  399,  401,  402,\n",
    "        403,  404,  407,  412,  417,  429,  435,  437,  438,  446,  447,\n",
    "        448,  456,  462,  474,  476,  478,  479,  483,  485,  488,  489,\n",
    "        493,  499,  500,  501,  508,  509,  510,  516,  518,  520,  521,\n",
    "        522,  525,  530,  531,  533,  537,  539,  541,  542,  547,  552,\n",
    "        558,  559,  561,  564,  565,  567,  571,  572,  573,  574,  577,\n",
    "        578,  580,  581,  586,  590,  594,  596,  597,  601,  603,  605,\n",
    "        608,  610,  611,  618,  624,  625,  628,  629,  630,  631,  633,\n",
    "        636,  640,  644,  649,  650,  652,  653,  654,  656,  657,  660,\n",
    "        661,  663,  664,  666,  669,  670,  672,  677,  679,  680,  682,\n",
    "        687,  689,  690,  691,  692,  693,  697,  699,  700,  701,  702,\n",
    "        705,  710,  711,  712,  716,  718,  719,  720,  722,  724,  726,\n",
    "        727,  729,  731,  732,  734,  736,  739,  741,  743,  744,  745,\n",
    "        747,  748,  750,  751,  754,  758,  760,  761,  764,  765,  768,\n",
    "        769,  770,  771,  772,  774,  775,  778,  779,  783,  784,  788,\n",
    "        789,  790,  794,  802,  806,  807,  811,  815,  827,  829,  830,\n",
    "        833,  841,  847,  851,  853,  854,  859,  860,  864,  868,  870,\n",
    "        872,  874,  875,  876,  889,  900,  902,  910,  911,  918,  923,\n",
    "        929,  931,  932,  934,  947,  949,  951,  961,  964,  970,  971,\n",
    "        974,  976,  977,  981,  984,  986,  987,  991,  996,  997,  998,\n",
    "       1000, 1002, 1005, 1006, 1007, 1025, 1027, 1028, 1029, 1035, 1041,\n",
    "       1043, 1044, 1050, 1051, 1062, 1063, 1066, 1072, 1077, 1083, 1097,\n",
    "       1098, 1099, 1102, 1103, 1104, 1105, 1108, 1109, 1115, 1116, 1121,\n",
    "       1124, 1128, 1142, 1143, 1145, 1146, 1148, 1150, 1154, 1155, 1157,\n",
    "       1159, 1170, 1176, 1178, 1181, 1190, 1195, 1203, 1223, 1225, 1234,\n",
    "       1241, 1252, 1266, 1273, 1276, 1279, 1286, 1294, 1295, 1298, 1304,\n",
    "       1308, 1310, 1313, 1316, 1318, 1321, 1322, 1327, 1330, 1331, 1333,\n",
    "       1338, 1339, 1341, 1344, 1345, 1348, 1351, 1354, 1355, 1359, 1360,\n",
    "       1361, 1368, 1369, 1371, 1372, 1374, 1375, 1377, 1378, 1387, 1388,\n",
    "       1392, 1393, 1397, 1399, 1400, 1402, 1404, 1412, 1413, 1417, 1420,\n",
    "       1421, 1424, 1427, 1429, 1434, 1436, 1437, 1438, 1439, 1441, 1443,\n",
    "       1444, 1446, 1447, 1450, 1451, 1452, 1454, 1455, 1456, 1461, 1462,\n",
    "       1464, 1466, 1470, 1471, 1472, 1473, 1475, 1476, 1478, 1481, 1482,\n",
    "       1483, 1485, 1488, 1489, 1494, 1499, 1501, 1504, 1505, 1506, 1507,\n",
    "       1512, 1514, 1517, 1519, 1522, 1523, 1526, 1529, 1533, 1535, 1539,\n",
    "       1541, 1546, 1548, 1551, 1552, 1554, 1557, 1558, 1573, 1574, 1581,\n",
    "       1582, 1583, 1584, 1586, 1591, 1592, 1593, 1594, 1595, 1596, 1598,\n",
    "       1606, 1622, 1630, 1633, 1635, 1642]"
   ]
  },
  {
   "cell_type": "code",
   "execution_count": 46,
   "metadata": {
    "collapsed": false
   },
   "outputs": [],
   "source": [
    "#cands = [622, 914, 926, 995, 1236, 1276, 1475, 1556, 1584]\n",
    "for i in cands:\n",
    "    ii=i\n",
    "\n",
    "    obj_name = k2_simbad.sim_2MASS[ii]\n",
    "\n",
    "    with warnings.catch_warnings():\n",
    "        warnings.simplefilter(\"ignore\")\n",
    "        result = v_wise.query_object(obj_name)\n",
    "    keys = result.keys()\n",
    "\n",
    "    if 'II/328/allwise' in keys:\n",
    "        allwise = result['II/328/allwise']\n",
    "        this_df = allwise.to_pandas()\n",
    "        if this_df._r.min()*60.0 < 1.5:\n",
    "            this_df['Allwise_input'] = obj_name\n",
    "            new_df.loc[ii] = this_df.loc[0]"
   ]
  },
  {
   "cell_type": "code",
   "execution_count": 39,
   "metadata": {
    "collapsed": true
   },
   "outputs": [],
   "source": [
    "#new_df.to_csv('temp_WISE.csv')"
   ]
  },
  {
   "cell_type": "code",
   "execution_count": 42,
   "metadata": {
    "collapsed": true
   },
   "outputs": [],
   "source": [
    "#old_df = pd.read_csv('temp_WISE.csv', index_col=0)"
   ]
  },
  {
   "cell_type": "code",
   "execution_count": 47,
   "metadata": {
    "collapsed": false
   },
   "outputs": [],
   "source": [
    "#both_df = pd.concat(new_df, old_df)"
   ]
  },
  {
   "cell_type": "code",
   "execution_count": 48,
   "metadata": {
    "collapsed": false
   },
   "outputs": [],
   "source": [
    "#new_df"
   ]
  },
  {
   "cell_type": "code",
   "execution_count": 49,
   "metadata": {
    "collapsed": false
   },
   "outputs": [
    {
     "data": {
      "text/plain": [
       "Index(['Allwise_input', '_r', '_RAJ2000', '_DEJ2000', 'AllWISE', 'RAJ2000',\n",
       "       'DEJ2000', 'eeMaj', 'eeMin', 'eePA', 'Im', 'W1mag', 'e_W1mag', 'W2mag',\n",
       "       'e_W2mag', 'W3mag', 'e_W3mag', 'W4mag', 'e_W4mag', 'Jmag', 'e_Jmag',\n",
       "       'Hmag', 'e_Hmag', 'Kmag', 'e_Kmag', 'wx', 'wy', 'ID', 'snr1', 'chi2W1',\n",
       "       'snr2', 'chi2W2', 'snr3', 'chi2W3', 'snr4', 'chi2W4', 'chi2', 'nb',\n",
       "       'na', 'sat1', 'sat2', 'sat3', 'sat4', 'ccf', 'ex', 'var', 'nW1', 'mW1',\n",
       "       'nW2', 'mW2', 'nW3', 'mW3', 'nW4', 'mW4', 'satnum', 'RA_pm', 'e_RA_pm',\n",
       "       'DE_pm', 'e_DE_pm', 'cosig_pm', 'pmRA', 'e_pmRA', 'pmDE', 'e_pmDE',\n",
       "       'chi2W1_pm', 'chi2W2_pm', 'chi2W3_pm', 'chi2W4_pm', 'chi2pm', 'qpm',\n",
       "       'qph', 'fdet', 'fmoon', 'covW1', 'covW2', 'covW3', 'covW4', '_2Mkey',\n",
       "       'd2M', '_2M'],\n",
       "      dtype='object')"
      ]
     },
     "execution_count": 49,
     "metadata": {},
     "output_type": "execute_result"
    }
   ],
   "source": [
    "new_df.columns"
   ]
  },
  {
   "cell_type": "code",
   "execution_count": 50,
   "metadata": {
    "collapsed": true
   },
   "outputs": [],
   "source": [
    "good_cols = ['Allwise_input', 'AllWISE','W1mag', 'e_W1mag', 'W2mag',\n",
    "       'e_W2mag', 'W3mag', 'e_W3mag', 'W4mag', 'e_W4mag']\n",
    "out_df = new_df[good_cols]"
   ]
  },
  {
   "cell_type": "markdown",
   "metadata": {},
   "source": [
    "## Merge the dataframes"
   ]
  },
  {
   "cell_type": "code",
   "execution_count": 51,
   "metadata": {
    "collapsed": true
   },
   "outputs": [],
   "source": [
    "k2_s_aw = pd.merge(k2_simbad, out_df, how = 'outer', left_on='sim_2MASS', right_on='Allwise_input')\n",
    "del k2_s_aw['Allwise_input']"
   ]
  },
  {
   "cell_type": "markdown",
   "metadata": {},
   "source": [
    "Save the merged dataframe to the `analysis` directory."
   ]
  },
  {
   "cell_type": "code",
   "execution_count": 52,
   "metadata": {
    "collapsed": true
   },
   "outputs": [],
   "source": [
    "k2_s_aw.to_csv('../analysis/K2C02_YSO_sim_WISE.csv', index=False)"
   ]
  },
  {
   "cell_type": "code",
   "execution_count": null,
   "metadata": {
    "collapsed": true
   },
   "outputs": [],
   "source": []
  }
 ],
 "metadata": {
  "kernelspec": {
   "display_name": "Python 3",
   "language": "python",
   "name": "python3"
  },
  "language_info": {
   "codemirror_mode": {
    "name": "ipython",
    "version": 3
   },
   "file_extension": ".py",
   "mimetype": "text/x-python",
   "name": "python",
   "nbconvert_exporter": "python",
   "pygments_lexer": "ipython3",
   "version": "3.4.3"
  }
 },
 "nbformat": 4,
 "nbformat_minor": 0
}
