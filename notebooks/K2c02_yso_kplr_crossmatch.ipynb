{
 "cells": [
  {
   "cell_type": "markdown",
   "metadata": {},
   "source": [
    "Merge K2 summary statistics catalog with other data from `kplr`\n",
    "gully"
   ]
  },
  {
   "cell_type": "markdown",
   "metadata": {},
   "source": [
    "## Query each of the 1658 sources with `kplr` to get meta data, *e.g.* Kepler magnitude.\n",
    "\n",
    "It adds 16 new columns of information, and one repeated column of information (`input_id`).\n",
    "\n",
    "\n",
    "### <i class=\"fa fa-arrow-right fa-1x\"></i>   Input:\n",
    "\n",
    "<i class=\"fa fa-table fa-2x\"></i> 1659 <i class=\"fa fa-times fa-1x\"></i> 12  \n",
    "<i class=\"fa fa-file-text fa-2x\"></i>`../analysis/K2C02_control_agg_data.csv`\n",
    "\n",
    "### Output <i class=\"fa fa-arrow-right fa-1x\"></i>   :\n",
    "\n",
    "<i class=\"fa fa-table fa-2x\"></i> 1659 <i class=\"fa fa-times fa-1x\"></i> 29  \n",
    "<i class=\"fa fa-file-text fa-2x\"></i>\n",
    "`../analysis/K2C02_YSO_kplr_match.csv`"
   ]
  },
  {
   "cell_type": "code",
   "execution_count": null,
   "metadata": {
    "collapsed": false
   },
   "outputs": [],
   "source": [
    "import warnings\n",
    "warnings.filterwarnings('ignore')\n",
    "%matplotlib inline\n",
    "import pandas as pd\n",
    "import numpy as np\n",
    "import matplotlib.pyplot as plt\n",
    "import seaborn as sns\n",
    "%config InlineBackend.figure_format = 'retina' \n",
    "from astropy.utils.console import ProgressBar"
   ]
  },
  {
   "cell_type": "markdown",
   "metadata": {},
   "source": [
    "### Read in the summary statistics from the previous notebook"
   ]
  },
  {
   "cell_type": "code",
   "execution_count": null,
   "metadata": {
    "collapsed": true
   },
   "outputs": [],
   "source": [
    "ad = pd.read_csv('../analysis/K2C02_YSO_agg_data.csv')"
   ]
  },
  {
   "cell_type": "markdown",
   "metadata": {},
   "source": [
    "### We want to use `kplr` to fetch auxiliary information about each source."
   ]
  },
  {
   "cell_type": "code",
   "execution_count": null,
   "metadata": {
    "collapsed": true
   },
   "outputs": [],
   "source": [
    "import kplr"
   ]
  },
  {
   "cell_type": "code",
   "execution_count": null,
   "metadata": {
    "collapsed": true
   },
   "outputs": [],
   "source": [
    "client = kplr.API()"
   ]
  },
  {
   "cell_type": "code",
   "execution_count": null,
   "metadata": {
    "collapsed": true
   },
   "outputs": [],
   "source": [
    "columns = ['input_id','id', 'k2_ra', 'k2_dec','twomass', 'ucac', 'tyc', 'hip', 'kp', 'bmag', 'vmag', \n",
    "            'rmag', 'imag', 'jmag', 'hmag', 'kmag', 'kepflag']\n",
    "kplr_info = pd.DataFrame(columns=columns)\n",
    "\n",
    "n_files = ad.shape[0]"
   ]
  },
  {
   "cell_type": "markdown",
   "metadata": {},
   "source": [
    "This takes like 30 minutes:"
   ]
  },
  {
   "cell_type": "code",
   "execution_count": null,
   "metadata": {
    "collapsed": false
   },
   "outputs": [],
   "source": [
    "with ProgressBar(n_files, ipython_widget=True) as bar:\n",
    "    for i in range(n_files):\n",
    "        bar.update()\n",
    "        file = ad.fname[i]\n",
    "        epic_id = ad.EPIC_ID[i]\n",
    "        vv = client.k2_star(epic_id)\n",
    "        kplr_info.loc[i] = [epic_id, vv.id, vv.k2_ra, vv.k2_dec,vv.twomass, vv.ucac, vv.tyc, vv.hip, \n",
    "                           vv.kp, vv.bmag, vv.vmag, vv.rmag, vv.imag, vv.jmag, vv.hmag, vv.kmag, vv.kepflag]"
   ]
  },
  {
   "cell_type": "code",
   "execution_count": null,
   "metadata": {
    "collapsed": true
   },
   "outputs": [],
   "source": [
    "k2c2_yso_all_info = pd.merge(ad, kplr_info, how='outer', left_on='EPIC_ID', right_on='input_id')"
   ]
  },
  {
   "cell_type": "code",
   "execution_count": null,
   "metadata": {
    "collapsed": false
   },
   "outputs": [],
   "source": [
    "k2c2_yso_all_info.tail()"
   ]
  },
  {
   "cell_type": "code",
   "execution_count": null,
   "metadata": {
    "collapsed": true
   },
   "outputs": [],
   "source": [
    "k2c2_yso_all_info.to_csv('../analysis/K2C02_YSO_kplr_match.csv', index=False)"
   ]
  },
  {
   "cell_type": "markdown",
   "metadata": {
    "collapsed": true
   },
   "source": [
    "# The end."
   ]
  }
 ],
 "metadata": {
  "kernelspec": {
   "display_name": "Python 3",
   "language": "python",
   "name": "python3"
  },
  "language_info": {
   "codemirror_mode": {
    "name": "ipython",
    "version": 3
   },
   "file_extension": ".py",
   "mimetype": "text/x-python",
   "name": "python",
   "nbconvert_exporter": "python",
   "pygments_lexer": "ipython3",
   "version": "3.4.4"
  }
 },
 "nbformat": 4,
 "nbformat_minor": 0
}
